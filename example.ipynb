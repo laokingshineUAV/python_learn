{
 "cells": [
  {
   "cell_type": "code",
   "execution_count": 3,
   "metadata": {
    "tags": []
   },
   "outputs": [
    {
     "output_type": "stream",
     "name": "stdout",
     "text": "[23, 12, 8]\n[-4, 1, 2]\n"
    }
   ],
   "source": [
    "import heapq\n",
    "nums = [1, 8, 2, 23, 7, -4, 12]\n",
    "print(heapq.nlargest(3, nums))\n",
    "print(heapq.nsmallest(3, nums))"
   ]
  },
  {
   "cell_type": "code",
   "execution_count": 2,
   "metadata": {
    "tags": []
   },
   "outputs": [
    {
     "output_type": "stream",
     "name": "stdout",
     "text": "Item('nihao')\n"
    }
   ],
   "source": [
    "import heapq\n",
    "class PrioritQueue:\n",
    "    def __init__(self):\n",
    "        self._queue = []\n",
    "        self._index = []\n",
    "    \n",
    "    def push(self, item, priority):\n",
    "        heapq.heappush(self._queue, (-priority, slef._index, item))\n",
    "        self._index += 1\n",
    "    def pop(self):\n",
    "        return heapq.heappop(selg._queue)[-1]\n",
    "\n",
    "class Item:\n",
    "    def __init__(self, name):\n",
    "        self._name = name\n",
    "    def __repr__(self):\n",
    "        return 'Item({!r})'.format(self._name)\n",
    "item = Item('nihao')\n",
    "print(item)"
   ]
  },
  {
   "cell_type": "markdown",
   "metadata": {},
   "source": [
    "# 在字典中将键映射到多个值上\n",
    "## 问题\n",
    "将键(key)映射到多个值的字典\n",
    "## 解决方案\n",
    "字典是一种关联容器，每个键都映射到一个单独的值上，如果想要让键映射到多个值，需要将这多个值保存到另一个容器如列别或集合当中\n"
   ]
  },
  {
   "cell_type": "code",
   "execution_count": 6,
   "metadata": {
    "tags": []
   },
   "outputs": [
    {
     "output_type": "stream",
     "name": "stdout",
     "text": "{'a': [1, 2, 3], 'b': [4, 5]}\n"
    }
   ],
   "source": [
    "d = {\n",
    " 'a': [1, 2, 3],\n",
    " 'b': [4, 5]\n",
    "}\n",
    "print(d)"
   ]
  },
  {
   "cell_type": "markdown",
   "metadata": {},
   "source": [
    "要使用列别还是集合完全取决于应用意图。如果希望保留元素的插入顺序，就用列表。如果希望消除重复元素(且不在意他们的顺序)，就用集合。\n",
    "为了方便的创建这样的字典。可以利用collections模块中的defaudict类。defaultdict的特点就是它会自动初始化第一个值，这样只需关注添加元素即可。"
   ]
  },
  {
   "cell_type": "code",
   "execution_count": 8,
   "metadata": {
    "tags": []
   },
   "outputs": [
    {
     "output_type": "stream",
     "name": "stdout",
     "text": "defaultdict(<class 'list'>, {'a': [1], 'b': [2, 3]})\ndefaultdict(<class 'set'>, {'a': {0, 1, 2}, 'b': {0}})\n"
    }
   ],
   "source": [
    "from collections import defaultdict\n",
    "d = defaultdict(list)\n",
    "d['a'].append(1)\n",
    "d['b'].append(2)\n",
    "d['b'].append(3)\n",
    "\n",
    "c = defaultdict(set)\n",
    "c['a'].add(1)\n",
    "c['a'].add(2)\n",
    "c['a'].add(1)\n",
    "c['a'].add(0)\n",
    "c['b'].add(0)\n",
    "\n",
    "print(d)\n",
    "print(c)"
   ]
  },
  {
   "cell_type": "markdown",
   "metadata": {},
   "source": [
    "关于defaultdict， 需要注意的一个地方是，它会自动创建字典表项以待稍后访问的。如果不想要这个功能，可以在普通的字典上使用setdefault()方法来代替。"
   ]
  },
  {
   "cell_type": "code",
   "execution_count": 9,
   "metadata": {
    "tags": []
   },
   "outputs": [
    {
     "output_type": "stream",
     "name": "stdout",
     "text": "{'a': [1, 2]}\n"
    }
   ],
   "source": [
    "d = {}\n",
    "d.setdefault('a', []).append(1)\n",
    "d.setdefault('a', []).append(2)\n",
    "print(d)"
   ]
  },
  {
   "cell_type": "markdown",
   "metadata": {},
   "source": [
    "## 讨论\n",
    "原则上，构建一个多值字典是很容易的。但是如果试着自己对第一个值做初始化操作，就会变得混乱。可能会出现这样的情况"
   ]
  },
  {
   "cell_type": "code",
   "execution_count": 11,
   "metadata": {},
   "outputs": [],
   "source": [
    "d = {}\n",
    "pairs = [['a', 1], ['b', 2]]\n",
    "for key, value in pairs:\n",
    "    if key not in d :\n",
    "        d[key] = []\n",
    "    d[key].append(value)\n"
   ]
  },
  {
   "cell_type": "markdown",
   "metadata": {},
   "source": [
    "使用defaultdict后的效果"
   ]
  },
  {
   "cell_type": "code",
   "execution_count": 16,
   "metadata": {},
   "outputs": [],
   "source": [
    "from collections import defaultdict\n",
    "d = defaultdict(list)\n",
    "pairs = [['a', 1], ['b', 2]]\n",
    "for key, value in pairs:\n",
    "    d[key].append(value)"
   ]
  },
  {
   "cell_type": "markdown",
   "metadata": {},
   "source": [
    "# 让字典保持有序\n",
    "## 解决方案\n",
    "要控制字典中元素的顺序，可以使用collections模块中的OrderDict类。当对字典做迭代时，它会严格按照元素初始添加的顺序进行"
   ]
  },
  {
   "cell_type": "code",
   "execution_count": 19,
   "metadata": {
    "tags": []
   },
   "outputs": [
    {
     "output_type": "stream",
     "name": "stdout",
     "text": "foo 1\nbar 2\nspam 3\nqrok 4\n"
    }
   ],
   "source": [
    "from collections import OrderedDict\n",
    "d = OrderedDict()\n",
    "d['foo'] = 1\n",
    "d['bar'] = 2\n",
    "d['spam'] = 3\n",
    "d['qrok'] = 4\n",
    "for key in d:\n",
    "    print(key, d[key])"
   ]
  },
  {
   "cell_type": "markdown",
   "metadata": {},
   "source": [
    "# 讨论\n",
    "OrderedDict维护了一个双向链表，它会根据元素加入的顺序来排列键的位置。第一个新加入的元素会被放置在链表的末尾。接下来对已存在的键值重新赋值不会改变键的顺序，需要注意的就是OrderDict的大小是普通字典的2倍多。"
   ]
  },
  {
   "cell_type": "code",
   "execution_count": null,
   "metadata": {},
   "outputs": [],
   "source": []
  }
 ],
 "metadata": {
  "language_info": {
   "name": "python",
   "codemirror_mode": {
    "name": "ipython",
    "version": 3
   },
   "version": "3.7.4-final"
  },
  "orig_nbformat": 2,
  "file_extension": ".py",
  "mimetype": "text/x-python",
  "name": "python",
  "npconvert_exporter": "python",
  "pygments_lexer": "ipython3",
  "version": 3,
  "kernelspec": {
   "name": "python3",
   "display_name": "Python 3"
  }
 },
 "nbformat": 4,
 "nbformat_minor": 2
}